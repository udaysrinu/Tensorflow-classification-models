{
 "cells": [
  {
   "cell_type": "code",
   "execution_count": 4,
   "metadata": {
    "colab": {},
    "colab_type": "code",
    "id": "dn-6c02VmqiN"
   },
   "outputs": [],
   "source": [=
    "import os\n",
    "import zipfile\n",
    "import random\n",
    "import tensorflow as tf\n",
    "import shutil\n",
    "from tensorflow.keras.optimizers import RMSprop\n",
    "from tensorflow.keras.preprocessing.image import ImageDataGenerator\n",
    "from shutil import copyfile\n",
    "from os import getcwd"
   ]
  },
  {
   "cell_type": "code",
   "execution_count": 5,
   "metadata": {
    "colab": {},
    "colab_type": "code",
    "id": "3sd9dQWa23aj"
   },
   "outputs": [],
   "source": [
    "path_cats_and_dogs = f\"{getcwd()}/../tmp2/cats-and-dogs.zip\"\n",
    "shutil.rmtree('/tmp')\n",
    "\n",
    "local_zip = path_cats_and_dogs\n",
    "zip_ref = zipfile.ZipFile(local_zip, 'r')\n",
    "zip_ref.extractall('/tmp')\n",
    "zip_ref.close()\n"
   ]
  },
  {
   "cell_type": "code",
   "execution_count": 6,
   "metadata": {
    "colab": {},
    "colab_type": "code",
    "id": "gi3yD62a6X3S"
   },
   "outputs": [
    {
     "name": "stdout",
     "output_type": "stream",
     "text": [
      "1500\n",
      "1500\n"
     ]
    }
   ],
   "source": [
    "print(len(os.listdir('/tmp/PetImages/Cat/')))\n",
    "print(len(os.listdir('/tmp/PetImages/Dog/')))\n",
    "\n",
    "# Expected Output:\n",
    "# 1500\n",
    "# 1500"
   ]
  },
  {
   "cell_type": "code",
   "execution_count": 7,
   "metadata": {
    "colab": {},
    "colab_type": "code",
    "id": "F-QkLjxpmyK2"
   },
   "outputs": [],
   "source": [=
    "try:\n",
    "    os.mkdir('/tmp/cats-v-dogs')\n",
    "    os.mkdir('/tmp/cats-v-dogs/training')\n",
    "    os.mkdir('/tmp/cats-v-dogs/testing')\n",
    "    os.mkdir('/tmp/cats-v-dogs/training/cats')\n",
    "    os.mkdir('/tmp/cats-v-dogs/training/dogs')\n",
    "    os.mkdir('/tmp/cats-v-dogs/testing/cats')\n",
    "    os.mkdir('/tmp/cats-v-dogs/testing/dogs')\n",
    "except OSError:\n",
    "    pass"
   ]
  },
  {
   "cell_type": "code",
   "execution_count": 9,
   "metadata": {
    "colab": {},
    "colab_type": "code",
    "id": "zvSODo0f9LaU"
   },
   "outputs": [],
   "source": [=
    "def split_data(SOURCE, TRAINING, TESTING, SPLIT_SIZE):\n",=
    "    files = []\n",
    "    for filename in os.listdir(SOURCE):\n",
    "        file = SOURCE + filename\n",
    "        if os.path.getsize(file) > 0:\n",
    "            files.append(filename)\n",
    "        else:\n",
    "            print(filename + \" is zero length, so ignoring.\")\n",
    "\n",
    "    training_length = int(len(files) * SPLIT_SIZE)\n",
    "    testing_length = int(len(files) - training_length)\n",
    "    shuffled_set = random.sample(files, len(files))\n",
    "    training_set = shuffled_set[0:training_length]\n",
    "    testing_set = shuffled_set[-testing_length:]\n",
    "\n",
    "    for filename in training_set:\n",
    "        this_file = SOURCE + filename\n",
    "        destination = TRAINING + filename\n",
    "        copyfile(this_file, destination)\n",
    "\n",
    "    for filename in testing_set:\n",
    "        this_file = SOURCE + filename\n",
    "        destination = TESTING + filename\n",
    "        copyfile(this_file, destination)\n",=
    "\n",
    "\n",
    "CAT_SOURCE_DIR = \"/tmp/PetImages/Cat/\"\n",
    "TRAINING_CATS_DIR = \"/tmp/cats-v-dogs/training/cats/\"\n",
    "TESTING_CATS_DIR = \"/tmp/cats-v-dogs/testing/cats/\"\n",
    "DOG_SOURCE_DIR = \"/tmp/PetImages/Dog/\"\n",
    "TRAINING_DOGS_DIR = \"/tmp/cats-v-dogs/training/dogs/\"\n",
    "TESTING_DOGS_DIR = \"/tmp/cats-v-dogs/testing/dogs/\"\n",
    "\n",
    "split_size = .9\n",
    "split_data(CAT_SOURCE_DIR, TRAINING_CATS_DIR, TESTING_CATS_DIR, split_size)\n",
    "split_data(DOG_SOURCE_DIR, TRAINING_DOGS_DIR, TESTING_DOGS_DIR, split_size)"
   ]
  },
  {
   "cell_type": "code",
   "execution_count": 10,
   "metadata": {
    "colab": {},
    "colab_type": "code",
    "id": "luthalB76ufC"
   },
   "outputs": [
    {
     "name": "stdout",
     "output_type": "stream",
     "text": [
      "1350\n",
      "1350\n",
      "150\n",
      "150\n"
     ]
    }
   ],
   "source": [
    "print(len(os.listdir('/tmp/cats-v-dogs/training/cats/')))\n",
    "print(len(os.listdir('/tmp/cats-v-dogs/training/dogs/')))\n",
    "print(len(os.listdir('/tmp/cats-v-dogs/testing/cats/')))\n",
    "print(len(os.listdir('/tmp/cats-v-dogs/testing/dogs/')))\n",
    "\n",
    "# Expected output:\n",
    "# 1350\n",
    "# 1350\n",
    "# 150\n",
    "# 150"
   ]
  },
  {
   "cell_type": "code",
   "execution_count": 11,
   "metadata": {
    "colab": {},
    "colab_type": "code",
    "id": "-BQrav4anTmj"
   },
   "outputs": [],
   "source": [=
    "model = tf.keras.models.Sequential([\n",=
    "    tf.keras.layers.Conv2D(16, (3, 3), activation='relu', input_shape=(150, 150, 3)),\n",
    "    tf.keras.layers.MaxPooling2D(2, 2),\n",
    "    tf.keras.layers.Conv2D(32, (3, 3), activation='relu'),\n",
    "    tf.keras.layers.MaxPooling2D(2, 2),\n",
    "    tf.keras.layers.Conv2D(64, (3, 3), activation='relu'),\n",
    "    tf.keras.layers.MaxPooling2D(2, 2),\n",
    "    tf.keras.layers.Flatten(),\n",
    "    tf.keras.layers.Dense(512, activation='relu'),\n",
    "    tf.keras.layers.Dense(1, activation='sigmoid')\n",
    "])\n",
    "\n",
    "model.compile(optimizer=RMSprop(lr=0.001), loss='binary_crossentropy', metrics=['acc'])"
   ]
  },
  {
   "cell_type": "markdown",
   "metadata": {},
   "source": [
    "# NOTE:\n",
    "\n",
    "In the cell below you **MUST** use a batch size of 10 (`batch_size=10`) for the `train_generator` and the `validation_generator`. Using a batch size greater than 10 will exceed memory limits on the Coursera platform."
   ]
  },
  {
   "cell_type": "code",
   "execution_count": 12,
   "metadata": {
    "colab": {},
    "colab_type": "code",
    "id": "mlNjoJ5D61N6"
   },
   "outputs": [
    {
     "name": "stdout",
     "output_type": "stream",
     "text": [
      "Found 2700 images belonging to 2 classes.\n",
      "Found 300 images belonging to 2 classes.\n"
     ]
    }
   ],
   "source": [
    "TRAINING_DIR = \"/tmp/cats-v-dogs/training/\"\n",
    "train_datagen = ImageDataGenerator(rescale=1.0/255.)\n",
    "\n",
    "train_generator = train_datagen.flow_from_directory(TRAINING_DIR,\n",
    "                                                    batch_size=10,\n",
    "                                                    class_mode='binary',\n",
    "                                                    target_size=(150, 150))\n",
    "\n",
    "VALIDATION_DIR = \"/tmp/cats-v-dogs/testing/\"\n",
    "validation_datagen = ImageDataGenerator(rescale=1.0/255.)\n",
    "\n",
    "validation_generator =validation_datagen.flow_from_directory(VALIDATION_DIR,\n",
    "                                                              batch_size=10,\n",
    "                                                              class_mode='binary',\n",
    "                                                              target_size=(150, 150))\n",
    "\n",
    "\n",
    "\n",
   ]
  },
  {
   "cell_type": "code",
   "execution_count": 13,
   "metadata": {
    "colab": {},
    "colab_type": "code",
    "id": "KyS4n53w7DxC"
   },
   "outputs": [
    {
     "name": "stdout",
     "output_type": "stream",
     "text": [
      "Epoch 1/2\n",
      "270/270 [==============================] - 42s 156ms/step - loss: 0.7556 - acc: 0.5819 - val_loss: 0.6675 - val_acc: 0.5967\n",
      "Epoch 2/2\n",
      "270/270 [==============================] - 37s 137ms/step - loss: 0.6168 - acc: 0.6826 - val_loss: 0.5883 - val_acc: 0.6567\n"
     ]
    }
   ],
   "source": [
    "history = model.fit_generator(train_generator,\n",
    "                              epochs=2,\n",
    "                              verbose=1,\n",
    "                              validation_data=validation_generator)\n"
   ]
  },
  {
   "cell_type": "code",
   "execution_count": 14,
   "metadata": {
    "colab": {},
    "colab_type": "code",
    "id": "MWZrJN4-65RC"
   },
   "outputs": [
    {
     "data": {
      "text/plain": [
       "Text(0.5, 1.0, 'Training and validation loss')"
      ]
     },
     "execution_count": 14,
     "metadata": {},
     "output_type": "execute_result"
    },
    {
     "data": {
      "image/png": "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\n",
      "text/plain": [
       "<Figure size 432x288 with 1 Axes>"
      ]
     },
     "metadata": {
      "needs_background": "light"
     },
     "output_type": "display_data"
    },
    {
     "data": {
      "image/png": "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\n",
      "text/plain": [
       "<Figure size 432x288 with 1 Axes>"
      ]
     },
     "metadata": {
      "needs_background": "light"
     },
     "output_type": "display_data"
    }
   ],
   "source": [
    "# PLOT LOSS AND ACCURACY\n",
    "%matplotlib inline\n",
    "\n",
    "import matplotlib.image  as mpimg\n",
    "import matplotlib.pyplot as plt\n",
    "\n",
    "#-----------------------------------------------------------\n",
    "# Retrieve a list of list results on training and test data\n",
    "# sets for each training epoch\n",
    "#-----------------------------------------------------------\n",
    "acc=history.history['acc']\n",
    "val_acc=history.history['val_acc']\n",
    "loss=history.history['loss']\n",
    "val_loss=history.history['val_loss']\n",
    "\n",
    "epochs=range(len(acc)) # Get number of epochs\n",
    "\n",
    "#------------------------------------------------\n",
    "# Plot training and validation accuracy per epoch\n",
    "#------------------------------------------------\n",
    "plt.plot(epochs, acc, 'r', \"Training Accuracy\")\n",
    "plt.plot(epochs, val_acc, 'b', \"Validation Accuracy\")\n",
    "plt.title('Training and validation accuracy')\n",
    "plt.figure()\n",
    "\n",
    "#------------------------------------------------\n",
    "# Plot training and validation loss per epoch\n",
    "#------------------------------------------------\n",
    "plt.plot(epochs, loss, 'r', \"Training Loss\")\n",
    "plt.plot(epochs, val_loss, 'b', \"Validation Loss\")\n",
    "\n",
    "\n",
    "plt.title('Training and validation loss')\n",
    "\n",
    "# Desired output. Charts with training and validation metrics. No crash :)"
   ]
  },
  {
   "cell_type": "markdown",
   "metadata": {},
   "source": [
    "# Submission Instructions"
   ]
  },
  {
   "cell_type": "code",
   "execution_count": null,
   "metadata": {},
   "outputs": [],
   "source": [
    "# Now click the 'Submit Assignment' button above."
   ]
  },
  {
   "cell_type": "markdown",
   "metadata": {},
   "source": [
    "# When you're done or would like to take a break, please run the two cells below to save your work and close the Notebook. This will free up resources for your fellow learners. "
   ]
  },
  {
   "cell_type": "code",
   "execution_count": null,
   "metadata": {},
   "outputs": [],
   "source": [
    "%%javascript\n",
    "<!-- Save the notebook -->\n",
    "IPython.notebook.save_checkpoint();"
   ]
  },
  {
   "cell_type": "code",
   "execution_count": null,
   "metadata": {},
   "outputs": [],
   "source": [
    "%%javascript\n",
    "IPython.notebook.session.delete();\n",
    "window.onbeforeunload = null\n",
    "setTimeout(function() { window.close(); }, 1000);"
   ]
  }
 ],
 "metadata": {
  "accelerator": "GPU",
  "colab": {
   "collapsed_sections": [],
   "name": "Exercise 5 - Question.ipynb",
   "provenance": []
  },
  "coursera": {
   "course_slug": "convolutional-neural-networks-tensorflow",
   "graded_item_id": "laIUG",
   "launcher_item_id": "jjQWM"
  },
  "kernelspec": {
   "display_name": "Python 3",
   "language": "python",
   "name": "python3"
  },
  "language_info": {
   "codemirror_mode": {
    "name": "ipython",
    "version": 3
   },
   "file_extension": ".py",
   "mimetype": "text/x-python",
   "name": "python",
   "nbconvert_exporter": "python",
   "pygments_lexer": "ipython3",
   "version": "3.6.8"
  }
 },
 "nbformat": 4,
 "nbformat_minor": 1
}
